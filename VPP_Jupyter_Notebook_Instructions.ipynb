{
 "cells": [
  {
   "cell_type": "markdown",
   "id": "6a4583de",
   "metadata": {},
   "source": [
    "## Developing a VPP for the Olympic Class foiling Nacra 17"
   ]
  },
  {
   "cell_type": "markdown",
   "id": "c7034236",
   "metadata": {},
   "source": [
    "### Read the VPP python file:"
   ]
  },
  {
   "cell_type": "code",
   "execution_count": 10,
   "id": "f0381453",
   "metadata": {},
   "outputs": [],
   "source": [
    "%run VPP_Final_Version.py"
   ]
  },
  {
   "cell_type": "markdown",
   "id": "b45b9fc6",
   "metadata": {},
   "source": [
    "## Instructions: \n",
    "\n",
    "- Run the cell above, make sure Jupyter Notebook, Python file and Excel Spreadsheet are in the same folder\n",
    "\n",
    "- Enter $VPP($$Vt, gamma, Vs, x_{crew})$ where $Vt$ is the True Wind Speed (TWS) in m/s, $gamma (\\gamma)$ is the True Wind Angle (TWA) in degrees, $Vs$ is the inital boat speed in m/s (set as 2m/s), $x_crew$ is the longitudinal position of the crew from the transom (set as 1.0, can be adjusted 0.5$\\leq$$x_{crew}$$\\leq$1.8m). This will return the final optimised boat speed, along with the DataFrame including all the necessary data to understand the evolution of forces acting on the boat.\n",
    "\n",
    "- Enter $f(xcrew, TWA_{range}, TWS_{range})$ to get the polar diagrams for a given range of longitudinal crew positions (0.5$\\leq$$x_{crew}$$\\leq$1.8m), TWA_range is the range of True wind angles at which the VPP will calculate the boat speeds (degrees), TWS_range is the range of True wind speeds (usually comprised between 5 and 9m/s for plausible values).\n",
    "\n",
    "-  $f(xcrew, TWA_{range}, TWS_{range})$ will return the polar diagrams, indicating by dashed lines the speeds and angles at which the Nacra 17 is in foiling mode\n",
    "\n",
    "- $f2(Vt, TWA_range, Vs, xcrew)$ will return the polar diagram for a given $TWS$ $(Vt)$ of all the crew positions given in the $x_{crew}$ array.\n"
   ]
  },
  {
   "cell_type": "code",
   "execution_count": null,
   "id": "0c80c6cf",
   "metadata": {},
   "outputs": [],
   "source": []
  },
  {
   "cell_type": "code",
   "execution_count": null,
   "id": "20f5966a",
   "metadata": {},
   "outputs": [],
   "source": []
  }
 ],
 "metadata": {
  "kernelspec": {
   "display_name": "Python 3",
   "language": "python",
   "name": "python3"
  },
  "language_info": {
   "codemirror_mode": {
    "name": "ipython",
    "version": 3
   },
   "file_extension": ".py",
   "mimetype": "text/x-python",
   "name": "python",
   "nbconvert_exporter": "python",
   "pygments_lexer": "ipython3",
   "version": "3.6.13"
  }
 },
 "nbformat": 4,
 "nbformat_minor": 5
}
